{
 "cells": [
  {
   "cell_type": "code",
   "execution_count": 10,
   "metadata": {},
   "outputs": [
    {
     "name": "stdout",
     "output_type": "stream",
     "text": [
      "Total time taken: 4.660498857498169 seconds\n"
     ]
    }
   ],
   "source": [
    "import time\n",
    "import pandas as pd\n",
    "import seaborn as sns\n",
    "import matplotlib.pyplot as plt\n",
    "import warnings\n",
    "from statsmodels.tsa.holtwinters import ExponentialSmoothing\n",
    "from statsmodels.tsa.seasonal import seasonal_decompose\n",
    "from sklearn.metrics import mean_squared_error, mean_absolute_error\n",
    "from statsmodels.tools.sm_exceptions import ConvergenceWarning\n",
    "import numpy as np\n",
    "\n",
    "# capture start time\n",
    "start_time = time.time()\n",
    "\n",
    "# clear existing log\n",
    "open('log.txt', 'w').close()\n",
    "\n",
    "df =  pd.read_excel('Testdata.xlsx') \n",
    "vendor_grouped_df = df.groupby('Vendor')\n",
    "output_df = pd.DataFrame()\n",
    "\n",
    "for vendor_name, vendor_group in vendor_grouped_df:\n",
    "    geo_region_grouped_df = vendor_group.groupby('Geo Region Group')\n",
    "    for geo_region_name, geo_region_group in geo_region_grouped_df:\n",
    "        geo_region_group = geo_region_group.set_index('Invoice Date')\n",
    "        geo_region_group = geo_region_group.sort_index()\n",
    "        start_date = geo_region_group.index.min()\n",
    "        end_date = geo_region_group.index.max()\n",
    "        date_table = pd.DataFrame(pd.date_range(start=start_date, end=end_date), columns=['Date'])\n",
    "        geo_region_group = geo_region_group.reset_index()\n",
    "        merged_df = pd.merge(date_table, geo_region_group, left_on='Date', right_on='Invoice Date', how='outer')\n",
    "        merged_df['Invoice total by day'] = merged_df['Invoice total by day'].fillna(0)\n",
    "        merged_df.set_index('Date', inplace=True)\n",
    "        if(len(geo_region_group)>50):\n",
    "            \n",
    "            # ignore the warning\n",
    "            warnings.filterwarnings(\"ignore\", category=ConvergenceWarning)\n",
    "\n",
    "            # Decompose the time series\n",
    "            period_hypothesized = round(len(merged_df)/3)\n",
    "            model = ExponentialSmoothing(merged_df['Invoice total by day'], trend='add', seasonal='add', seasonal_periods=period_hypothesized, freq='D')\n",
    "            model_fit = model.fit()\n",
    "\n",
    "            # Forecast the next periods\n",
    "            forecast = model_fit.forecast(steps=300)\n",
    "            forecast[forecast <= 0] = 0.00\n",
    "            # forecast.plot()\n",
    "            # plt.show()\n",
    "            \n",
    "            # merge the forecast with the original data\n",
    "            forecast_df = pd.DataFrame(forecast, columns=['Forecasted Value'])\n",
    "            merged_df = pd.concat([merged_df, forecast_df], axis=1)\n",
    "            merged_df = merged_df.reset_index(drop=False)\n",
    "            merged_df['Vendor'] = vendor_name\n",
    "            merged_df['Geo Region Group'] = geo_region_name\n",
    "            merged_df['Vendor ID'] = geo_region_group['Vendor ID'].iloc[0]\n",
    "            merged_df.drop(columns=['Invoice Date'], inplace=True)\n",
    "            merged_df['Invoice total by day'] = merged_df['Invoice total by day'].fillna(merged_df['Forecasted Value'])\n",
    "            merged_df.drop(columns=['Forecasted Value'], inplace=True)\n",
    "            output_df = pd.concat([output_df, merged_df])\n",
    "\n",
    "            # create log file .txt\n",
    "            with open('log.txt', 'a') as f:\n",
    "                f.write(f\"Forecasted for Vendor: {vendor_name} in Geo-region:{geo_region_name}\\n\")\n",
    "        else:\n",
    "            # create log file .txt\n",
    "            with open('log.txt', 'a') as f:\n",
    "                f.write(f\"Not enough data to forecast for Vendor: {vendor_name} in Geo-region:{geo_region_name}\\n\")\n",
    "            # print(f\"Not enough data to forecast for Vendor: {vendor_name} in Geo-region:{geo_region_name}\")\n",
    "    # print(output_df)\n",
    "output_df.to_csv('output.csv', index=False)\n",
    "# capture end time\n",
    "end_time = time.time()\n",
    "# calculate total time taken\n",
    "print(f\"Total time taken: {end_time - start_time} seconds\")"
   ]
  }
 ],
 "metadata": {
  "kernelspec": {
   "display_name": "Python 3",
   "language": "python",
   "name": "python3"
  },
  "language_info": {
   "codemirror_mode": {
    "name": "ipython",
    "version": 3
   },
   "file_extension": ".py",
   "mimetype": "text/x-python",
   "name": "python",
   "nbconvert_exporter": "python",
   "pygments_lexer": "ipython3",
   "version": "3.11.4"
  }
 },
 "nbformat": 4,
 "nbformat_minor": 2
}
